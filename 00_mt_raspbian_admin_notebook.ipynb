{
 "cells": [
  {
   "cell_type": "code",
   "execution_count": null,
   "metadata": {},
   "outputs": [],
   "source": [
    "%%writefile sYs_aDmin.md\n",
    "\n",
    "**#Build an Internet of Things server with a Rasberry Pi**\n",
    "\n",
    "This notebook will cover building the install medium, GPIO testing and server configuration for the Rasberry Pi hardware development board.  \n",
    "\n",
    "\n",
    "1. Verify the .iso file that was downloaded from source with md5sum.\n",
    ">>$ wget\n",
    ">>$ md5sum\n",
    "\n",
    "\n",
    "2. Prepare install medium, usually a SD card or USB drive. \n",
    "\n",
    ">># gparted\n",
    "\n",
    ">># dd\n",
    "\n",
    "\n",
    "3. Boot up the system and ensure it is installed as expected.\n",
    "\n",
    ">>$ raspi-config\n",
    "\n",
    "\n",
    "4. Administer users \n",
    "\n",
    "\n",
    "5. Basic Networking\n",
    "\n",
    "\n",
    "6. System Security\n",
    "\n",
    "\n",
    "7. GPIO setup and testing\n",
    "\n",
    "\n",
    "8. The Raspberry Pi as a local data or web server\n",
    "\n",
    "\n",
    "9. Admin GUIs"
   ]
  },
  {
   "cell_type": "code",
   "execution_count": null,
   "metadata": {
    "scrolled": true
   },
   "outputs": [],
   "source": [
    "%pwd"
   ]
  },
  {
   "cell_type": "code",
   "execution_count": null,
   "metadata": {
    "scrolled": true
   },
   "outputs": [],
   "source": [
    "%ls -al"
   ]
  },
  {
   "cell_type": "markdown",
   "metadata": {},
   "source": [
    "**## 3. Boot the System **\n",
    "\n",
    "\n",
    "/boot/config.txt     #If file is empty or missing, RPi is using the default setup.\n",
    "\n",
    "Changes here require reboot, does not control GPU or CPU. One option per line\n",
    "\n",
    "\n",
    "\n",
    "\n",
    "a\n",
    "/boot/cmdline.txt   #options passed to kernel as RPi boots up\n",
    "\n",
    "\n",
    "\n",
    "\n",
    "\n",
    "\n",
    "\n",
    "can also use\n",
    "\n",
    "$sudo raspi-config\n",
    "\n",
    "enable the i2c, SPI, SSH, and Serial to boot sequence\n",
    "\n"
   ]
  },
  {
   "cell_type": "markdown",
   "metadata": {},
   "source": [
    "**## 4. User Administration**\n",
    "\n",
    "Setup the default user group assignment.\n",
    "\n",
    "Debian defaults to giving each user their own groups with usually the same name, also known as User Private Groups.\n",
    "\n",
    "Create a name for your new group that makes sense, such as *python-dev* or *dba_t3* if multiple users with be developing along with you.  \n",
    "Robot users will have a very limited list of directories or files that they can r/w to, \n",
    "\n",
    ">>$ man passwd\n",
    ">>'[user,group][add, mod,del]\n",
    "\n",
    "\n",
    "Root access is administered by files in:\n",
    "\n",
    ">>/etc/sudoers\n",
    ">>\n",
    ">>/etc/sudoers.d\n",
    "\n",
    "\n",
    "\n",
    "\n",
    "\n",
    "Access Control Lists (ACL)\n",
    ">>$ man acl\n",
    ">>\n",
    ">>$ man getacl\n",
    ">>\n",
    ">>$ man setacl\n",
    ">>\n",
    ">>$ man chacl\n",
    ">>\n"
   ]
  },
  {
   "cell_type": "markdown",
   "metadata": {},
   "source": [
    "##5. Basic Networking\n",
    "\n",
    "\n",
    "Install a firewall with fwbuilder. Multiplatform compatible (Mac OS/X, BSD, Ciso)\n",
    "\n",
    "Shorewall ## config with text files\n",
    "\n",
    "IPTABLES was previously called IPCHAINS. Control the firewalling for the Linux server with these modules.  Filters can vary from open ports, IP addresses and services. \n",
    "\n",
    "Also monitors packet actions eg. incoming, bridging, forwarding, or NAT. Application site www.netfilter.org\n",
    "\n",
    "**Open Inbound Ports**\n",
    "\n",
    "Only allow what the server needs to operate properly, limit source addresses.  A remote system is asking for a new local service.\n",
    "\n",
    "\n",
    "**Outbound Traffic**\n",
    "\n",
    "Limit the number of new outbound requests, log analysis. Try to detect connections to remote c&c servers, facebook etc.\n",
    "\n",
    "\n",
    "**Perimeter Network**\n",
    "\n",
    "For high security systems place the external facing server or perimeter network between two firewalls, one for private internal and one for the internet. Perimeter servers should not be able to start connections with internal systems in high security environments.\n"
   ]
  },
  {
   "cell_type": "code",
   "execution_count": 1,
   "metadata": {},
   "outputs": [
    {
     "name": "stdout",
     "output_type": "stream",
     "text": [
      "fwbuilder - Firewall administration tool GUI\r\n",
      "fwbuilder-common - Firewall administration tool GUI (common files)\r\n",
      "fwbuilder-dbg - Firewall administration tool GUI (debugging symbols)\r\n",
      "fwbuilder-doc - Firewall administration tool GUI documentation\r\n"
     ]
    }
   ],
   "source": [
    "!apt-cache search fwbuilder\n",
    "#remotely connect to configurations and access-lists for multiple servers\n"
   ]
  },
  {
   "cell_type": "code",
   "execution_count": null,
   "metadata": {
    "scrolled": true
   },
   "outputs": [],
   "source": [
    "!apt-cache search shorewall\n",
    "#config with text files, no GUI"
   ]
  },
  {
   "cell_type": "code",
   "execution_count": 3,
   "metadata": {},
   "outputs": [
    {
     "name": "stdout",
     "output_type": "stream",
     "text": [
      "arpalert - monitor ARP changes in ethernet networks\n",
      "arpwatch - Ethernet/FDDI station activity monitor\n",
      "ndpmon - IPv6 Neighbor Discovery Protocol Monitor\n"
     ]
    }
   ],
   "source": [
    "!apt-cache search arpwatch"
   ]
  },
  {
   "cell_type": "code",
   "execution_count": 5,
   "metadata": {},
   "outputs": [],
   "source": [
    "!apt-cache search bmon"
   ]
  },
  {
   "cell_type": "code",
   "execution_count": 7,
   "metadata": {},
   "outputs": [
    {
     "name": "stdout",
     "output_type": "stream",
     "text": [
      "bwm-ng - small and simple console-based bandwidth monitor\r\n"
     ]
    }
   ],
   "source": [
    "!apt-cache search bwm-ng"
   ]
  },
  {
   "cell_type": "code",
   "execution_count": 9,
   "metadata": {},
   "outputs": [
    {
     "name": "stdout",
     "output_type": "stream",
     "text": [
      "darkstat - network traffic analyzer\r\n"
     ]
    }
   ],
   "source": [
    "!apt-cache search darkstat"
   ]
  },
  {
   "cell_type": "code",
   "execution_count": 10,
   "metadata": {},
   "outputs": [
    {
     "name": "stdout",
     "output_type": "stream",
     "text": [
      "python-aodhclient - OpenStack Alarming as a Service - Python 2.7 client\r\n",
      "python-aodhclient-doc - OpenStack Alarming as a Service - client doc\r\n",
      "python3-aodhclient - OpenStack Alarming as a Service - Python 3.x client\r\n"
     ]
    }
   ],
   "source": [
    "!apt-cache search dhclient"
   ]
  },
  {
   "cell_type": "code",
   "execution_count": 13,
   "metadata": {
    "scrolled": false
   },
   "outputs": [
    {
     "name": "stdout",
     "output_type": "stream",
     "text": [
      "libcommons-dbcp-java - Database Connection Pooling Services\n",
      "sysstat - system performance tools for Linux\n",
      "dstat - versatile resource statistics tool\n",
      "hobbit-plugins - plugins for the Xymon network monitor\n",
      "libcommons-dbcp-java-doc - Database Connection Pooling Services - documentation\n",
      "libghc-acid-state-dev - Haskell database library with ACID guarantees - GHC libraries\n",
      "libghc-acid-state-doc - Haskell database library with ACID guarantees - documentation; documentation\n",
      "libghc-acid-state-prof - Haskell database library with ACID guarantees - GHC profiling libraries; profiling libraries\n",
      "nagios-plugins-contrib - Plugins for nagios compatible monitoring systems\n",
      "python3-dugong - HTTP 1.1 client module for Python\n"
     ]
    }
   ],
   "source": [
    "!apt-cache search dstat #com"
   ]
  },
  {
   "cell_type": "code",
   "execution_count": 14,
   "metadata": {},
   "outputs": [
    {
     "name": "stdout",
     "output_type": "stream",
     "text": [
      "ethtool - display or change Ethernet device settings\n",
      "ifplugd - configuration daemon for ethernet devices\n",
      "python-ethtool - Python bindings for the ethtool kernel interface\n",
      "ruby-rethtool - partial wrapper around the SIOCETHTOOL ioctl\n"
     ]
    }
   ],
   "source": [
    "!apt-cache search ethtool"
   ]
  },
  {
   "cell_type": "code",
   "execution_count": 16,
   "metadata": {},
   "outputs": [],
   "source": [
    "!apt-cache search host"
   ]
  },
  {
   "cell_type": "code",
   "execution_count": null,
   "metadata": {
    "scrolled": true
   },
   "outputs": [],
   "source": [
    "!apt-cache search ifstat"
   ]
  },
  {
   "cell_type": "code",
   "execution_count": null,
   "metadata": {
    "scrolled": true
   },
   "outputs": [],
   "source": [
    "!apt-cache search ngrep"
   ]
  },
  {
   "cell_type": "code",
   "execution_count": null,
   "metadata": {
    "scrolled": true
   },
   "outputs": [],
   "source": [
    "!apt-cache search traceroute"
   ]
  },
  {
   "cell_type": "code",
   "execution_count": null,
   "metadata": {
    "scrolled": true
   },
   "outputs": [],
   "source": [
    "!apt-cache search wireshark"
   ]
  },
  {
   "cell_type": "markdown",
   "metadata": {},
   "source": [
    "###Find information on packages installed on the system.\n",
    "\n",
    "https://askubuntu.com/questions/17012/is-it-possible-to-get-a-list-of-most-recently-installed-packages"
   ]
  },
  {
   "cell_type": "code",
   "execution_count": null,
   "metadata": {},
   "outputs": [],
   "source": [
    "!grep \"  install \" /var/log/dpkg.log"
   ]
  },
  {
   "cell_type": "code",
   "execution_count": null,
   "metadata": {
    "scrolled": true
   },
   "outputs": [],
   "source": [
    "!awk '$3~/^install$/ {print $4;}' /var/log/dpkg.log\n",
    "#list only recently installed"
   ]
  },
  {
   "cell_type": "code",
   "execution_count": null,
   "metadata": {},
   "outputs": [],
   "source": [
    "!grep \" install \" /var/log/apt/history.log"
   ]
  },
  {
   "cell_type": "code",
   "execution_count": null,
   "metadata": {
    "scrolled": true
   },
   "outputs": [],
   "source": [
    "!grep \" install \" /var/log/dpkg.log.1 /var/log/dpkg.log"
   ]
  },
  {
   "cell_type": "code",
   "execution_count": null,
   "metadata": {
    "scrolled": true
   },
   "outputs": [],
   "source": [
    "#!cat /var/log/dpkg.log |awk '/ install / {printf \"%s \",$4}'\n",
    "#in one line for piping to another command, uncomment below for new line\n",
    "!cat /var/log/dpkg.log |awk '/ install / {printf \"%s\\n \",$4}'"
   ]
  },
  {
   "cell_type": "code",
   "execution_count": null,
   "metadata": {
    "scrolled": false
   },
   "outputs": [],
   "source": [
    "!comm -12 <apt-mark showmanual | sort <grep \" install \" /var/log/dpkg.log | cut -d \" \" -sf4 | grep -o \"^[^:]*\" | sort"
   ]
  },
  {
   "cell_type": "code",
   "execution_count": 11,
   "metadata": {},
   "outputs": [],
   "source": [
    "!zcat -f /var/log/dpkg.log* | grep \" install \" | sort > /tmp/dpkg.log"
   ]
  },
  {
   "cell_type": "code",
   "execution_count": null,
   "metadata": {
    "scrolled": true
   },
   "outputs": [],
   "source": [
    "!head /tmp/dpkg.log"
   ]
  },
  {
   "cell_type": "code",
   "execution_count": null,
   "metadata": {},
   "outputs": [],
   "source": []
  },
  {
   "cell_type": "code",
   "execution_count": null,
   "metadata": {},
   "outputs": [],
   "source": []
  },
  {
   "cell_type": "code",
   "execution_count": null,
   "metadata": {},
   "outputs": [],
   "source": []
  },
  {
   "cell_type": "markdown",
   "metadata": {},
   "source": [
    "**## 6. System Security**\n",
    "\n",
    "Special Note :: The following code and instructions are for RESEARCH PURPOSES ONLY!. Do not implement the following in a production software environmentj without a code review.\n",
    "\n",
    "\n",
    "1. Adding human and robot users, the Root account\n",
    "\n",
    "2. Debian Hardening Packages\n",
    "\n",
    "harden * installs harden-environment and harden-servers*\n",
    "harden-clients\n",
    "harden-environment\n",
    "harden-nids\n",
    "harden-servers\n",
    "harden-tools\n",
    "\n",
    "NIDS monitor network interfaces, after analysis of attack characteristices it creates alerts.\n",
    "\n",
    "\n",
    "File Monitors, alerts for new, modified or deleted files.  Fine tune to detect changes for attacks.\n",
    "\n",
    "\n",
    "System Scanners\n",
    "\n",
    "rkhunter, chkrootkit, tiger, clamav, Lynis\n",
    "\n",
    "\n"
   ]
  },
  {
   "cell_type": "code",
   "execution_count": 3,
   "metadata": {
    "scrolled": true
   },
   "outputs": [
    {
     "name": "stdout",
     "output_type": "stream",
     "text": [
      "forensics-all - Debian Forensics Environment - essential components (metapackage)\n",
      "rkhunter - rootkit, backdoor, sniffer and exploit scanner\n",
      "unhide - Forensic tool to find hidden processes and ports\n",
      "unhide.rb - Forensic tool to find processes hidden by rootkits\n"
     ]
    }
   ],
   "source": [
    "!apt-cache search rkhunter"
   ]
  },
  {
   "cell_type": "code",
   "execution_count": 4,
   "metadata": {},
   "outputs": [
    {
     "name": "stdout",
     "output_type": "stream",
     "text": [
      "chkrootkit - rootkit detector\n",
      "rkhunter - rootkit, backdoor, sniffer and exploit scanner\n"
     ]
    }
   ],
   "source": [
    "!apt-cache search chkrootkit"
   ]
  },
  {
   "cell_type": "code",
   "execution_count": null,
   "metadata": {
    "scrolled": true
   },
   "outputs": [],
   "source": [
    "!apt-cache search tiger"
   ]
  },
  {
   "cell_type": "code",
   "execution_count": null,
   "metadata": {
    "scrolled": true
   },
   "outputs": [],
   "source": [
    "!apt-cache search clamav"
   ]
  },
  {
   "cell_type": "code",
   "execution_count": null,
   "metadata": {},
   "outputs": [],
   "source": [
    "!mkdir -p /usr/local/lynis27"
   ]
  },
  {
   "cell_type": "code",
   "execution_count": null,
   "metadata": {},
   "outputs": [],
   "source": [
    "cd /user/local/lynis27"
   ]
  },
  {
   "cell_type": "code",
   "execution_count": null,
   "metadata": {},
   "outputs": [],
   "source": [
    "!wget http://cisofy.com/files/lynis-2.7.5.tar.gz"
   ]
  },
  {
   "cell_type": "markdown",
   "metadata": {},
   "source": [
    "Install Lynis on Linux.  Scan your system for vulnerabilities \n",
    "\n",
    "Check the SHA256 sum against the hash on the download page\n",
    "\n",
    "\n",
    "Once Lynis starts scanning your system, will perform auditing in:\n",
    "--checkall.........-c....Start the check\n",
    "--check-update...........check if lynix is up-to-date\n",
    "--cronjob................Run Lynis as cronjob (includes -c -Q)\n",
    "--help.............-h....shows valid parameters\n",
    "--manpage................view man page\n",
    "--nocolors...............do not use any colors\n",
    "--pentest................perform penetration test scan (non-privileged)\n",
    "--quick.......-Q.........Does not wait for user input, except for errors\n",
    "--quiet..................only show warnings, includes --quick,no wait\n",
    "--reverse-colors.........for lighter backgrounds in shells\n",
    "--version...........-V...check program version (and quit)\n",
    "\n",
    "\n",
    "Once scanning is completed, the auditing report is stored in \n",
    "/var/log/lynis.log"
   ]
  },
  {
   "cell_type": "code",
   "execution_count": null,
   "metadata": {},
   "outputs": [],
   "source": [
    "!sha256sum lynis-2.7.5.tar.gz"
   ]
  },
  {
   "cell_type": "code",
   "execution_count": null,
   "metadata": {},
   "outputs": [],
   "source": [
    "!tar xfvz lynis-2.7.5.tar.gz -C /opt"
   ]
  },
  {
   "cell_type": "code",
   "execution_count": null,
   "metadata": {},
   "outputs": [],
   "source": [
    "!./lynis --check-all -Q"
   ]
  },
  {
   "cell_type": "code",
   "execution_count": null,
   "metadata": {},
   "outputs": [],
   "source": [
    "!grep Warning /var/log/lynis.log"
   ]
  },
  {
   "cell_type": "code",
   "execution_count": null,
   "metadata": {},
   "outputs": [],
   "source": [
    "%%writefile lynis27.sh\n",
    "###!/bin/sh\n",
    "#AUDITOR=\"automated\"\n",
    "#DATE=$(date +%Y%m%d)\n",
    "#HOST=$(hostname)\n",
    "#LOG_DIR=\"/var/log/lynis\"\n",
    "#REPORT=\"$LOG_DIR/report-${HOST}.${DATE}\"\n",
    "#DATA=\"$LOG_DIR/report-data-${HOST}.${DATE}.txt\"\n",
    "#cd /opt/lynis\n",
    "#./lynis -c --auditor \"${AUDITOR}\" --cronjob > ${REPORT}\n",
    "#mv /var/log/lynis-report.dat ${DATA}\n",
    "#\n",
    "#\n",
    "#$ sudo chmod 755 /etc/cron.daily/scan.sh\n",
    "#\n"
   ]
  },
  {
   "cell_type": "code",
   "execution_count": null,
   "metadata": {},
   "outputs": [],
   "source": [
    "!apt-cache search "
   ]
  },
  {
   "cell_type": "markdown",
   "metadata": {},
   "source": [
    "Check High Availability Failover setups\n",
    "\n",
    "!!IMPORTANT NOTE :: DO NOT PERFORM IN PRODUCTION SYSTEMS, ONLY WITHIN RESEARCH VM !!\n",
    "\n",
    "\n",
    "Cause kernel panics or network outages to simulate realworld downtime.  Load balancers should shuffle traffic to working nodes until a replacement can be launched.  \n",
    "\n",
    "echo c > /proc/sysrq-trigger\n",
    "\n",
    "echo 1 > /proc/sysrq-trigger\n",
    "\n",
    "\n",
    "\n",
    "\n",
    "create a new function which spawns new versions of itself until triggers process limit or maxes out memory\n",
    "\n",
    ":(){ :|:& };:\n",
    "\n",
    "\n"
   ]
  },
  {
   "cell_type": "code",
   "execution_count": null,
   "metadata": {},
   "outputs": [],
   "source": []
  },
  {
   "cell_type": "markdown",
   "metadata": {},
   "source": [
    "## 7 .GPIO Setup and Testing\n",
    "\n",
    "\n",
    "Extra packages are required for the command and control unit to manage multiple hardware boards.\n",
    "Create a virtual environment for the board to keep different versions of Python from overwriting each other and causing unexpected results.\n",
    "Best practice is to keep the local install separated.\n",
    "\n"
   ]
  },
  {
   "cell_type": "code",
   "execution_count": null,
   "metadata": {},
   "outputs": [],
   "source": [
    "!sudo apt install python-dev python-rpi.gpio python-smbus i2c-tools \\\n",
    "build-essential libssl-dev libffi-dev python3-venv -y"
   ]
  },
  {
   "cell_type": "code",
   "execution_count": null,
   "metadata": {},
   "outputs": [],
   "source": [
    "!sudo pip3 install update -y"
   ]
  },
  {
   "cell_type": "code",
   "execution_count": null,
   "metadata": {},
   "outputs": [],
   "source": [
    "!sudo pip3 install virtualenv"
   ]
  },
  {
   "cell_type": "code",
   "execution_count": 6,
   "metadata": {
    "scrolled": true
   },
   "outputs": [
    {
     "name": "stdout",
     "output_type": "stream",
     "text": [
      "Using base prefix '/usr'\n",
      "New python executable in /home/tapew0rm/mtGit/mt_os/cricket_1/bin/python3\n",
      "Also creating executable in /home/tapew0rm/mtGit/mt_os/cricket_1/bin/python\n",
      "Installing setuptools, pip, wheel...done.\n"
     ]
    }
   ],
   "source": [
    "#create a virtual environment\n",
    "!virtualenv cricket_1"
   ]
  },
  {
   "cell_type": "code",
   "execution_count": 7,
   "metadata": {},
   "outputs": [
    {
     "name": "stdout",
     "output_type": "stream",
     "text": [
      "/bin/sh: 1: source: not found\r\n"
     ]
    }
   ],
   "source": [
    "!source cricket_1/bin/activate"
   ]
  },
  {
   "cell_type": "code",
   "execution_count": 3,
   "metadata": {},
   "outputs": [
    {
     "name": "stdout",
     "output_type": "stream",
     "text": [
      "\r\n"
     ]
    }
   ],
   "source": [
    "!deactivate"
   ]
  },
  {
   "cell_type": "code",
   "execution_count": 12,
   "metadata": {},
   "outputs": [],
   "source": [
    "!python3 -m venv cricket_1"
   ]
  },
  {
   "cell_type": "code",
   "execution_count": null,
   "metadata": {
    "scrolled": true
   },
   "outputs": [],
   "source": [
    "!virtualenv --python=/usr/bin/python3 cricket_1"
   ]
  },
  {
   "cell_type": "code",
   "execution_count": 8,
   "metadata": {},
   "outputs": [
    {
     "name": "stdout",
     "output_type": "stream",
     "text": [
      "/bin/sh: 1: cd: can't cd to /home/tapew0rm/virtualenv/microPython/\r\n"
     ]
    }
   ],
   "source": [
    "!cd ~/virtualenv/microPython/"
   ]
  },
  {
   "cell_type": "code",
   "execution_count": 9,
   "metadata": {},
   "outputs": [
    {
     "name": "stdout",
     "output_type": "stream",
     "text": [
      "/home/tapew0rm/mtGit/mt_os\r\n"
     ]
    }
   ],
   "source": [
    "!pwd"
   ]
  },
  {
   "cell_type": "code",
   "execution_count": 10,
   "metadata": {},
   "outputs": [
    {
     "name": "stdout",
     "output_type": "stream",
     "text": [
      "/home/tapew0rm/mtPy\n"
     ]
    }
   ],
   "source": [
    "cd ~/mtPy"
   ]
  },
  {
   "cell_type": "code",
   "execution_count": null,
   "metadata": {
    "scrolled": true
   },
   "outputs": [],
   "source": [
    "!grep -E --color 'vmx|svm' /proc/cpuinfo"
   ]
  },
  {
   "cell_type": "markdown",
   "metadata": {},
   "source": [
    "Advanced Serial Console for Linux\n",
    "\n",
    "Instructions are from Kattni Rembor on the (adafruit.com website:   )\n",
    "{\n",
    "https://learn.adafruit.com/welcome-to-circuitpython/advanced-serial-console-on-mac-and-linux\n",
    "}\n",
    "\n",
    ".\n",
    "Find out which serial port your board is using. Run the ls command before you plug directly into the command unit. This should help you findthe current serial connections which should include your board\n",
    "\n",
    "Depending on your Rasberry Pi user setup, the screen command may need to be launched as a root (top level admin) user. \n",
    "\n"
   ]
  },
  {
   "cell_type": "code",
   "execution_count": null,
   "metadata": {},
   "outputs": [],
   "source": [
    "!ls -l /dev/ttyACM*"
   ]
  },
  {
   "cell_type": "code",
   "execution_count": null,
   "metadata": {},
   "outputs": [],
   "source": [
    "!sudo screen /dev/ttyACM0 115200"
   ]
  },
  {
   "cell_type": "code",
   "execution_count": null,
   "metadata": {},
   "outputs": [],
   "source": [
    "!ls -l "
   ]
  },
  {
   "cell_type": "code",
   "execution_count": null,
   "metadata": {},
   "outputs": [],
   "source": []
  },
  {
   "cell_type": "code",
   "execution_count": null,
   "metadata": {},
   "outputs": [],
   "source": []
  },
  {
   "cell_type": "code",
   "execution_count": null,
   "metadata": {},
   "outputs": [],
   "source": []
  },
  {
   "cell_type": "code",
   "execution_count": null,
   "metadata": {},
   "outputs": [],
   "source": []
  },
  {
   "cell_type": "code",
   "execution_count": null,
   "metadata": {},
   "outputs": [],
   "source": [
    "%writefile unix_command_notes.py\n",
    "#!/usr/bin/env python\n",
    "#this is how a biologist dissects a python\n",
    "#these are my personal notes from \n",
    "#UNIX in a Nutshell, by O'Reilly, \n",
    "#below are common commands listed in the introduction\n",
    "\n",
    "print('''\n",
    "    \"Communication###############################', \n",
    "      '#' \n",
    "      '--cu.........Connect to UNIX system' \n",
    "      '--ftp........File transfer protocol'  \n",
    "      '--login......Sign on to UNIX'  \n",
    "      '--mailx......Read or send mail' \n",
    "      '--rlogin.....Sign on to Remote UNIX' \n",
    "      '--talk.......Write to other terminals'\n",
    "      '--telnet.....Connect to another system'\n",
    "      '--vacation...Respond to mail automatically'\n",
    "      '--write......Write to other terminals'\n",
    "      '#'\n",
    "      'Comparisons################################'\n",
    "      '--cmp........Compare two files'\n",
    "      '--comm.......Compare items in files'\n",
    "      '--diff.......Compare two files'\n",
    "      '--diff3......Compare three files'\n",
    "      '--dircmp.....Compare directories'\n",
    "      '--sdiff......Comapre two files, side by side'\n",
    "      '###'\n",
    "      '##'\n",
    " 'File Management###########################'\n",
    " '--cat........Join files or display them'\n",
    " '--cd.........Change directory'\n",
    " '--chmod......Change access modes on files'\n",
    " '--cp.........Copy files'\n",
    " '--csplit.....Break files at specific locations'\n",
    " \"--file.......Determine a file's type\"\n",
    " '--head.......Show the few first lines of a file'\n",
    " '--install....Set up system files'\n",
    " '--ln.........Create filename aliases'\n",
    " '--ls.........List files or directories'\n",
    " '--mkdir......Create a Directory'\n",
    " '--more.......Display files by screenfull'\n",
    " '--mv.........Move or remame files or directories'\n",
    " '--pwd........ your working directories'\n",
    " '--rcp........Copy files to remote system'\n",
    " '--rm.........Remove files'\n",
    " '--rmdir......Remove directories'\n",
    " '--split......Split files evenly'\n",
    " '--tail.......Show the last few lines of a file'\n",
    " '--wc.........Count lines, words, and charactes'\n",
    " '###'\n",
    " '##'\n",
    " 'Miscellaneous##############################'\n",
    " '#'\n",
    " '--banner.....Make posters from words'\n",
    " '--bc.........Precision calculator'\n",
    " '--cal........Display calendar'\n",
    " '--calender...Check for reminders'\n",
    " '--clear......Clear the screen'\n",
    " '--kill.......Terminate a running command'\n",
    " '--man........Get information on a command'\n",
    " \"--nice.......Reduce a job's priority\"\n",
    " '--nohup......Preserve a job after logging out'\n",
    " '--passwd.....Set password'\n",
    " '--script.....Produce a transcript of your login session'\n",
    " '--spell......Report misspelled words'\n",
    " '--su.........Become the super user'\n",
    " '###'\n",
    " '##'\n",
    " 'NETWORKING##################################'\n",
    " '#'\n",
    " '--cancel.....Cancel a er request'\n",
    " '--lp.........Send to er'\n",
    " '--lpstat.....Get er status'\n",
    " '--pr.........Format and paginate for ing'\n",
    " '###'\n",
    " '##'\n",
    " 'COMPILE_DEBUG_PROGRAMMING###############################'\n",
    " '#'\n",
    " '--cb.........C source code \"beautifer\"'\n",
    " '--cc.........C compiler'\n",
    " '--cflow......C function flowchart'\n",
    " '--ctags......C function references'\n",
    " '--ctrace.....C debugger'\n",
    " '--cxref......C cross-reference'\n",
    " '--lint.......C debugger'\n",
    " '--ld.........Link editor'\n",
    " '--lex........Lexical analyzer'\n",
    " '--make.......Execute commands in a specified order'\n",
    " '--od.........Dump input in various formats'\n",
    " '--sdb........Symbolic debugger'\n",
    " '--strip......Remove data from an object file'\n",
    " '--truss......Trace signams and system calls'\n",
    " '--yacc.......Compiler used with lex'\n",
    " '###'\n",
    " '##'\n",
    " 'SEARCHING##################################'\n",
    " '#'\n",
    " '--egrep........Extended verion of grep'\n",
    " '--fgrep......Search files for literal words'\n",
    " '--find.......Serch the system for filenames'\n",
    " '--grep.......Search files for text patterns'\n",
    " '--strings....Search binary files for text patterns'\n",
    " '###'\n",
    " '##'\n",
    " 'SHELL PROGRAMMING#####################'\n",
    " '#'\n",
    " '--echo.......Repeat input on the output'\n",
    " '--expr.......Perform arithmetic and comparisons'\n",
    " '--line.......Read a line of input'\n",
    " '--sleep......Pause during processing'\n",
    " '--test.......Test a conditon'\n",
    " '###'\n",
    " '##'\n",
    " 'STORAGE###############################'\n",
    " '#'\n",
    " '--compress...Compress files to free up space'\n",
    " '--cpio.......Copy archives in or out'\n",
    " '--pack.......Pack files to free up space'\n",
    " '--pcat.......Display contents of packed files'\n",
    " '--tar........Tape archiver'\n",
    " '--uncompress.Expand compressed '\"(.Z)\"' files'\n",
    " '--unpack.....Expand packed '\"(.z)\"' files'\n",
    " '--zcat.......Display contents of compressed files'\n",
    " '###'\n",
    " '##'\n",
    " 'SYSTEM STATUS#########################'\n",
    " '#'\n",
    " '--at.........Execute commands later'\n",
    " '--chgrp......Change file group'\n",
    " '--chown......Change file owner'\n",
    " '--crontab....Automate commands'\n",
    " '--date.......Display or set date'\n",
    " '--df.........Show free disk space'\n",
    " '--du.........Show disk usage'\n",
    " '--env........Show environmental variables'\n",
    " '--finger.....Point out information about users'\n",
    " '--iotop......Show read/writes to disk'\n",
    " '--ps.........Show processes'\n",
    " '--ruptime....Show loads on working systems'\n",
    " '--shutdown...Revert to single user mode'\n",
    " '--stty.......Set or display terminal settings'\n",
    " '--top........Show processes running'\n",
    " '--who........Show who is logged on'\n",
    " '###'\n",
    " '##'\n",
    " 'TEXT PROCESSING#######################'\n",
    " '#'\n",
    " '--cut........Select columns for display'\n",
    " '--ex.........Line-editor underlying vi'\n",
    " '--fmt........Produce roughly uniform line lengths'\n",
    " '--fold.......Produce exactly uniform line lenghts'\n",
    " '--join.......Merge different columns into a database'\n",
    " '--nawk.......New awk, pattern-matching lang for db files'\n",
    " '--paste......Merge columns or switch order'\n",
    " '--sed........Noninteractive text editor'\n",
    " '--sort.......Sort or merge files'\n",
    " '--tr.........Translate (redefine) characters'\n",
    " '--uniq.......Find repeated or unique lines in a file'\n",
    " '--vi.........Visual text editor'\n",
    " '--xargs......Process many arguments in manageable portions'\n",
    " '###'\n",
    " '##'\n",
    " 'BSD-derived sytems and System V########'\n",
    " '--BSD commands reside in your systems \"/usr/ucb\"'\n",
    " '--these commands have an existing counterpart'\n",
    " '--but the versions work slightly differently'\n",
    " '--If your PATH variable specifies \"/usr/ucb\" before'\n",
    " '--the SV command directies \"e.g., /usr\" you end up'\n",
    " '--running the BSD version of the command'\n",
    " '--LIST OF TWO VERSION COMMANDS########'\n",
    " '---basename, cc, chown, deroff, df, du, echo, groups'\n",
    " '---install, ld, ln, ls, ps, shutdown, stty, sum, test'\n",
    " '---tr, vacation'\n",
    "\n",
    "\"\n",
    "''')"
   ]
  }
 ],
 "metadata": {
  "kernelspec": {
   "display_name": "Python 3",
   "language": "python",
   "name": "python3"
  },
  "language_info": {
   "codemirror_mode": {
    "name": "ipython",
    "version": 3
   },
   "file_extension": ".py",
   "mimetype": "text/x-python",
   "name": "python",
   "nbconvert_exporter": "python",
   "pygments_lexer": "ipython3",
   "version": "3.6.5"
  }
 },
 "nbformat": 4,
 "nbformat_minor": 2
}
