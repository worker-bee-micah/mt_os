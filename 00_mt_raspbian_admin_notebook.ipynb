{
 "cells": [
  {
   "cell_type": "code",
   "execution_count": null,
   "metadata": {},
   "outputs": [],
   "source": [
    "%%writefile sYs_aDmin.md\n",
    "\n",
    "**#Build an Internet of Things server with a Rasberry Pi**\n",
    "\n",
    "This notebook will cover building the install medium, GPIO testing and server configuration for the Rasberry Pi hardware development board.  \n",
    "\n",
    "\n",
    "1. Verify the .iso file that was downloaded from source with md5sum.\n",
    ">>$ wget\n",
    ">>$ md5sum\n",
    "\n",
    "\n",
    "2. Prepare install medium, usually a SD card or USB drive. \n",
    "\n",
    ">># gparted\n",
    "\n",
    ">># dd\n",
    "\n",
    "\n",
    "3. Boot up the system and ensure it is installed as expected.\n",
    "\n",
    ">>$ raspi-config\n",
    "\n",
    "\n",
    "4. Administer users \n",
    "\n",
    "\n",
    "5. Basic Networking\n",
    "\n",
    "\n",
    "6. System Security\n",
    "\n",
    "\n",
    "7. GPIO setup and testing\n",
    "\n",
    "\n",
    "8. The Raspberry Pi as a local data or web server\n",
    "\n",
    "\n",
    "9. Admin GUIs"
   ]
  },
  {
   "cell_type": "code",
   "execution_count": null,
   "metadata": {
    "scrolled": true
   },
   "outputs": [],
   "source": [
    "%pwd"
   ]
  },
  {
   "cell_type": "code",
   "execution_count": null,
   "metadata": {
    "scrolled": true
   },
   "outputs": [],
   "source": [
    "%ls -al"
   ]
  },
  {
   "cell_type": "markdown",
   "metadata": {},
   "source": [
    "**## 3. Boot the System\n",
    "\n",
    "\n"
   ]
  },
  {
   "cell_type": "markdown",
   "metadata": {},
   "source": [
    "**## 4. User Administration**\n",
    "\n",
    "Setup the default user group assignment.\n",
    "\n",
    "Debian defaults to giving each user their own groups with usually the same name, also known as User Private Groups.\n",
    "\n",
    "Create a name for your new group that makes sense, such as *python-dev* or *dba_t3* if multiple users with be developing along with you.  \n",
    "Robot users will have a very limited list of directories or files that they can r/w to, \n",
    "\n",
    ">>$ man passwd\n",
    ">>'[user,group][add, mod,del]\n",
    "\n",
    "\n",
    "Root access is administered by files in:\n",
    "\n",
    ">>/etc/sudoers\n",
    ">>\n",
    ">>/etc/sudoers.d\n",
    "\n",
    "\n",
    "\n",
    "\n",
    "\n",
    "Access Control Lists (ACL)\n",
    ">>$ man acl\n",
    ">>\n",
    ">>$ man getacl\n",
    ">>\n",
    ">>$ man setacl\n",
    ">>\n",
    ">>$ man chacl\n",
    ">>\n"
   ]
  },
  {
   "cell_type": "markdown",
   "metadata": {},
   "source": [
    "##5. Basic Networking\n",
    "\n",
    "\n",
    "Install a firewall with fwbuilder. Multiplatform compatible (Mac OS/X, BSD, Ciso)\n",
    "\n",
    "Shorewall ## config with text files\n",
    "\n",
    "IPTABLES was previously called IPCHAINS. Control the firewalling for the Linux server with these modules.  Filters can vary from open ports, IP addresses and services. \n",
    "\n",
    "Also monitors packet actions eg. incoming, bridging, forwarding, or NAT. Application site www.netfilter.org\n",
    "\n",
    "**Open Inbound Ports**\n",
    "\n",
    "Only allow what the server needs to operate properly, limit source addresses.  A remote system is asking for a new local service.\n",
    "\n",
    "\n",
    "**Outbound Traffic**\n",
    "\n",
    "Limit the number of new outbound requests, log analysis. Try to detect connections to remote c&c servers, facebook etc.\n",
    "\n",
    "\n",
    "**Perimeter Network**\n",
    "\n",
    "For high security systems place the external facing server or perimeter network between two firewalls, one for private internal and one for the internet. Perimeter servers should not be able to start connections with internal systems in high security environments.\n"
   ]
  },
  {
   "cell_type": "code",
   "execution_count": 1,
   "metadata": {},
   "outputs": [
    {
     "name": "stdout",
     "output_type": "stream",
     "text": [
      "fwbuilder - Firewall administration tool GUI\r\n",
      "fwbuilder-common - Firewall administration tool GUI (common files)\r\n",
      "fwbuilder-dbg - Firewall administration tool GUI (debugging symbols)\r\n",
      "fwbuilder-doc - Firewall administration tool GUI documentation\r\n"
     ]
    }
   ],
   "source": [
    "!apt-cache search fwbuilder\n",
    "#remotely connect to configurations and access-lists for multiple servers\n"
   ]
  },
  {
   "cell_type": "code",
   "execution_count": 2,
   "metadata": {},
   "outputs": [
    {
     "name": "stdout",
     "output_type": "stream",
     "text": [
      "pyroman - Very fast firewall configuration tool\r\n",
      "shorewall - Shoreline Firewall, netfilter configurator\r\n",
      "shorewall-core - Shorewall core components\r\n",
      "shorewall-doc - documentation for Shoreline Firewall (Shorewall)\r\n",
      "shorewall-init - Shorewall initialization\r\n",
      "shorewall-lite - Shorewall (lite version), a high-level tool for configuring Netfilter\r\n",
      "shorewall6 - Shoreline Firewall (IPv6 version), netfilter configurator\r\n",
      "shorewall6-lite - Shorewall (lite version with IPv6 support)\r\n"
     ]
    }
   ],
   "source": [
    "!apt-cache search shorewall\n",
    "#config with text files, no GUI"
   ]
  },
  {
   "cell_type": "markdown",
   "metadata": {},
   "source": [
    "**## 6. System Security**\n",
    "\n",
    "Special Note :: The following code and instructions are for RESEARCH PURPOSES ONLY!. Do not implement the following in a production software environmentj without a code review.\n",
    "\n",
    "\n",
    "1. Adding human and robot users, the Root account\n",
    "\n",
    "2. Debian Hardening Packages\n",
    "\n",
    "harden * installs harden-environment and harden-servers*\n",
    "harden-clients\n",
    "harden-environment\n",
    "harden-nids\n",
    "harden-servers\n",
    "harden-tools\n",
    "\n",
    "NIDS monitor network interfaces, after analysis of attack characteristices it creates alerts.\n",
    "\n",
    "\n",
    "File Monitors, alerts for new, modified or deleted files.  Fine tune to detect changes for attacks.\n",
    "\n",
    "\n",
    "System Scanners\n",
    "\n",
    "rkhunter, chkrootkit, tiger, clamav\n",
    "\n",
    "\n"
   ]
  },
  {
   "cell_type": "code",
   "execution_count": 3,
   "metadata": {},
   "outputs": [
    {
     "name": "stdout",
     "output_type": "stream",
     "text": [
      "forensics-all - Debian Forensics Environment - essential components (metapackage)\n",
      "rkhunter - rootkit, backdoor, sniffer and exploit scanner\n",
      "unhide - Forensic tool to find hidden processes and ports\n",
      "unhide.rb - Forensic tool to find processes hidden by rootkits\n"
     ]
    }
   ],
   "source": [
    "!apt-cache search rkhunter"
   ]
  },
  {
   "cell_type": "code",
   "execution_count": 4,
   "metadata": {},
   "outputs": [
    {
     "name": "stdout",
     "output_type": "stream",
     "text": [
      "chkrootkit - rootkit detector\n",
      "rkhunter - rootkit, backdoor, sniffer and exploit scanner\n"
     ]
    }
   ],
   "source": [
    "!apt-cache search chkrootkit"
   ]
  },
  {
   "cell_type": "code",
   "execution_count": null,
   "metadata": {
    "scrolled": true
   },
   "outputs": [],
   "source": [
    "!apt-cache search tiger"
   ]
  },
  {
   "cell_type": "code",
   "execution_count": null,
   "metadata": {
    "scrolled": true
   },
   "outputs": [],
   "source": [
    "!apt-cache search clamav"
   ]
  },
  {
   "cell_type": "code",
   "execution_count": null,
   "metadata": {},
   "outputs": [],
   "source": [
    "!apt-cache search "
   ]
  },
  {
   "cell_type": "markdown",
   "metadata": {},
   "source": [
    "##GPIO Setup and Testing"
   ]
  },
  {
   "cell_type": "code",
   "execution_count": null,
   "metadata": {},
   "outputs": [],
   "source": [
    "!sudo apt install python-dev python-rpi.gpio python-smbus i2c-tools"
   ]
  },
  {
   "cell_type": "code",
   "execution_count": null,
   "metadata": {},
   "outputs": [],
   "source": []
  }
 ],
 "metadata": {
  "kernelspec": {
   "display_name": "Python 3",
   "language": "python",
   "name": "python3"
  },
  "language_info": {
   "codemirror_mode": {
    "name": "ipython",
    "version": 3
   },
   "file_extension": ".py",
   "mimetype": "text/x-python",
   "name": "python",
   "nbconvert_exporter": "python",
   "pygments_lexer": "ipython3",
   "version": "3.6.5"
  }
 },
 "nbformat": 4,
 "nbformat_minor": 2
}
