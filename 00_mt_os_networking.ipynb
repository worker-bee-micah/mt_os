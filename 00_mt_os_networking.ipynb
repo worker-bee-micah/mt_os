{
 "cells": [
  {
   "cell_type": "code",
   "execution_count": 1,
   "metadata": {
    "scrolled": true
   },
   "outputs": [
    {
     "name": "stdout",
     "output_type": "stream",
     "text": [
      "\r\n"
     ]
    }
   ],
   "source": [
    "!sudo apt install openshh-server bridge-utils dsniff nmap -y"
   ]
  },
  {
   "cell_type": "markdown",
   "metadata": {},
   "source": [
    "#Raspberry Pi server networking  \n",
    "\n",
    "The sensor array connected to the RPi will create either temporary or permanent databases which will then Post to the Apache server for graphical display. \n",
    "\n",
    "After you install OpenSSH server, type the following command in a bash terminal shell root user:\n",
    "\n",
    ">\n",
    ">#service ssh start\n",
    ">\n",
    "\n",
    "Once the SSH server is installed set it to automatically when the operating system is rebooted. Change the run level settings with the following command:\n",
    "\n",
    ">\n",
    ">#update-rc.d -f ssh remove\n",
    ">\n",
    ">#update-rc.d -f ssh defaults\n",
    "\n",
    "Best practice is to remove the default keys and make new ones:\n",
    "\n",
    ">\n",
    ">#cd /etc/ssh\n",
    ">\n",
    ">#mkdir default_piano_k3ys\n",
    ">\n",
    ">#mv ssh_host_* default_piano_k3ys\n",
    ">\n",
    "\n",
    "Generate new keys and restart the SSH server. You will need to use a root shell or sudo command to perform most of the steps.\n",
    ">\n",
    ">#dpkg-reconfigure openssh-server\n",
    ">\n",
    ">service ssh restart\n",
    ">\n",
    ">#ssh -fN -R 443:localhost:22 root@192.168.123.1\n",
    "\n",
    "Common TCP ports 22, 53, 80, 443, \n",
    "\n",
    "##Sources\n",
    "\n",
    "Most of the hardward and software used in this example were purchased by the Brooklyn U.S. based supplier [adafruit.com]{'https://learn.adafruit.com/setting-up-a-raspberry-pi-as-a-wifi-access-point'}\n",
    "\n",
    "\n",
    "I used this [book]{'https://www.packtpub.com/networking-and-servers/penetration-testing-raspberry-pi'} to research server integrity scripts to determine if development servers or unintended installs are occuring on the API or web server.   \n",
    "\n",
    "Low costs sensors can be placed in harsh environments and connect to the RPi via wifi.  \n",
    "\n",
    "\n",
    "Setup both Ethernet ports to be open IP addresses. You will be able to use the Rpi with a male-male cable connected to your laptop. Once the initial is complete perform the following:\n",
    "\n",
    ">ifconfig eth3 0.0.0.0\n",
    "\n",
    ">ifconfig eth4 0.0.0.0\n",
    "\n",
    ">brctl addbr bridge9 \n",
    "\n",
    ">brctl addif bridge9 eth3\n",
    "\n",
    ">brctl addif bridge9 eth4\n",
    "\n",
    ">ifconfig bridge9 up\n",
    "\n",
    "\n",
    "\n"
   ]
  },
  {
   "cell_type": "code",
   "execution_count": 22,
   "metadata": {
    "scrolled": true
   },
   "outputs": [
    {
     "name": "stdout",
     "output_type": "stream",
     "text": [
      "wlp3s0    IEEE 802.11abgn  ESSID:\"Lmu\":=i6D'VyfbtunWNe\"  \r\n",
      "          Mode:Managed  Frequency:5.785 GHz  Access Point: 10:9A:DD:8B:D3:E4   \r\n",
      "          Bit Rate=300 Mb/s   Tx-Power=22 dBm   \r\n",
      "          Retry short limit:7   RTS thr:off   Fragment thr:off\r\n",
      "          Power Management:off\r\n",
      "          Link Quality=57/70  Signal level=-53 dBm  \r\n",
      "          Rx invalid nwid:0  Rx invalid crypt:0  Rx invalid frag:0\r\n",
      "          Tx excessive retries:0  Invalid misc:662   Missed beacon:0\r\n",
      "\r\n",
      "lo        no wireless extensions.\r\n",
      "\r\n",
      "enp0s25   no wireless extensions.\r\n",
      "\r\n",
      "virbr0    no wireless extensions.\r\n",
      "\r\n",
      "virbr0-nic  no wireless extensions.\r\n",
      "\r\n"
     ]
    }
   ],
   "source": [
    "!iwconfig #wlan0 up"
   ]
  },
  {
   "cell_type": "code",
   "execution_count": null,
   "metadata": {},
   "outputs": [],
   "source": [
    "!iwconfig wlan0 scanning"
   ]
  },
  {
   "cell_type": "code",
   "execution_count": null,
   "metadata": {},
   "outputs": [],
   "source": []
  },
  {
   "cell_type": "code",
   "execution_count": 3,
   "metadata": {
    "scrolled": true
   },
   "outputs": [
    {
     "name": "stdout",
     "output_type": "stream",
     "text": [
      "Kernel IP routing table\r\n",
      "Destination     Gateway         Genmask         Flags   MSS Window  irtt Iface\r\n",
      "0.0.0.0         10.0.1.1        0.0.0.0         UG        0 0          0 wlp3s0\r\n",
      "10.0.1.0        0.0.0.0         255.255.255.0   U         0 0          0 wlp3s0\r\n",
      "169.254.0.0     0.0.0.0         255.255.0.0     U         0 0          0 wlp3s0\r\n",
      "192.168.122.0   0.0.0.0         255.255.255.0   U         0 0          0 virbr0\r\n"
     ]
    }
   ],
   "source": [
    "!netstat -nr"
   ]
  },
  {
   "cell_type": "code",
   "execution_count": 8,
   "metadata": {
    "scrolled": false
   },
   "outputs": [
    {
     "name": "stdout",
     "output_type": "stream",
     "text": [
      "\n",
      "Starting Nmap 7.01 ( https://nmap.org ) at 2019-05-26 00:15 EDT\n",
      "Nmap scan report for 10.0.1.1\n",
      "Host is up (0.0018s latency).\n",
      "Nmap scan report for 10.0.1.2\n",
      "Host is up (0.0042s latency).\n",
      "Nmap scan report for 10.0.1.5\n",
      "Host is up (0.000092s latency).\n",
      "Nmap done: 256 IP addresses (3 hosts up) scanned in 7.21 seconds\n"
     ]
    }
   ],
   "source": [
    "!nmap -Rsn 10.0.1.0/24"
   ]
  },
  {
   "cell_type": "code",
   "execution_count": 26,
   "metadata": {},
   "outputs": [
    {
     "name": "stdout",
     "output_type": "stream",
     "text": [
      "\n",
      "Starting Nmap 7.01 ( https://nmap.org ) at 2019-05-26 03:44 EDT\n",
      "Nmap scan report for 172.16.42.1\n",
      "Host is up (0.0031s latency).\n",
      "All 1000 scanned ports on 172.16.42.1 are filtered\n",
      "\n",
      "Nmap done: 1 IP address (1 host up) scanned in 3.48 seconds\n"
     ]
    }
   ],
   "source": [
    "!nmap 172.16.42.1 -Pn\n",
    "#!nmap 192.168.1.0/24\n",
    "#scan the entire class C range"
   ]
  },
  {
   "cell_type": "code",
   "execution_count": 24,
   "metadata": {},
   "outputs": [
    {
     "name": "stdout",
     "output_type": "stream",
     "text": [
      "\n",
      "Starting Nmap 7.01 ( https://nmap.org ) at 2019-05-26 03:42 EDT\n",
      "Failed to resolve \"172.16.42.1:22\".\n",
      "WARNING: No targets were specified, so 0 hosts scanned.\n",
      "Nmap done: 0 IP addresses (0 hosts up) scanned in 0.06 seconds\n"
     ]
    }
   ],
   "source": [
    "!nmap --open 172.16.42.1\n",
    "#!nmap --open 192.168.12.1\n",
    "#shows possible open ports"
   ]
  },
  {
   "cell_type": "code",
   "execution_count": 12,
   "metadata": {},
   "outputs": [
    {
     "name": "stdout",
     "output_type": "stream",
     "text": [
      "\n",
      "Starting Nmap 7.01 ( https://nmap.org ) at 2019-05-26 00:21 EDT\n",
      "Nmap scan report for 192.168.122.1\n",
      "Host is up, received syn-ack (0.000080s latency).\n",
      "Not shown: 997 closed ports\n",
      "Reason: 997 conn-refused\n",
      "PORT   STATE SERVICE REASON\n",
      "22/tcp open  ssh     syn-ack\n",
      "53/tcp open  domain  syn-ack\n",
      "80/tcp open  http    syn-ack\n",
      "\n",
      "Nmap done: 1 IP address (1 host up) scanned in 0.07 seconds\n"
     ]
    }
   ],
   "source": [
    "!nmap --reason 192.168.122.1"
   ]
  },
  {
   "cell_type": "code",
   "execution_count": 13,
   "metadata": {},
   "outputs": [
    {
     "name": "stdout",
     "output_type": "stream",
     "text": [
      "\r\n",
      "Starting Nmap 7.01 ( https://nmap.org ) at 2019-05-26 00:22 EDT\r\n",
      "************************INTERFACES************************\r\n",
      "DEV        (SHORT)      IP/MASK                                   TYPE     UP   MTU   MAC\r\n",
      "wlp3s0     (wlp3s0)     10.0.1.5/24                               ethernet up   1500  48:51:B7:A3:8D:10\r\n",
      "wlp3s0     (wlp3s0)     2600:6c60:4d00:79b:cdf6:a7c1:1d10:38a4/64 ethernet up   1500  48:51:B7:A3:8D:10\r\n",
      "wlp3s0     (wlp3s0)     fe80::45f5:d751:2d42:141f/64              ethernet up   1500  48:51:B7:A3:8D:10\r\n",
      "wlp3s0     (wlp3s0)     2600:6c60:4d00:79b:914a:23cc:1dd1:b1d6/64 ethernet up   1500  48:51:B7:A3:8D:10\r\n",
      "lo         (lo)         127.0.0.1/8                               loopback up   65536\r\n",
      "lo         (lo)         ::1/128                                   loopback up   65536\r\n",
      "enp0s25    (enp0s25)    (none)/0                                  ethernet up   1500  80:FA:5B:13:6B:C3\r\n",
      "virbr0     (virbr0)     192.168.122.1/24                          ethernet up   1500  00:00:00:00:00:00\r\n",
      "virbr0-nic (virbr0-nic) (none)/0                                  ethernet down 1500  52:54:00:A6:44:71\r\n",
      "\r\n",
      "**************************ROUTES**************************\r\n",
      "DST/MASK                                   DEV    METRIC GATEWAY\r\n",
      "192.168.122.0/24                           virbr0 0\r\n",
      "10.0.1.0/24                                wlp3s0 600\r\n",
      "169.254.0.0/16                             wlp3s0 1000\r\n",
      "0.0.0.0/0                                  wlp3s0 600    10.0.1.1\r\n",
      "::1/128                                    lo     0\r\n",
      "2600:6c60:4d00:79b:914a:23cc:1dd1:b1d6/128 lo     0\r\n",
      "2600:6c60:4d00:79b:cdf6:a7c1:1d10:38a4/128 lo     0\r\n",
      "fe80::45f5:d751:2d42:141f/128              lo     0\r\n",
      "2600:6c60:4d00:79b::/64                    wlp3s0 256\r\n",
      "fe80::/64                                  wlp3s0 256\r\n",
      "2600:6c60:4d00:79b::/64                    wlp3s0 600    fe80::bac7:5dff:fed0:ee8d\r\n",
      "ff00::/8                                   wlp3s0 256\r\n",
      "::/0                                       wlp3s0 600    fe80::bac7:5dff:fed0:ee8d\r\n",
      "\r\n"
     ]
    }
   ],
   "source": [
    "!nmap -iflist > ~/Desktop/wireless_list.txt"
   ]
  },
  {
   "cell_type": "code",
   "execution_count": 14,
   "metadata": {},
   "outputs": [
    {
     "name": "stdout",
     "output_type": "stream",
     "text": [
      "\n",
      "Starting Nmap 7.01 ( https://nmap.org ) at 2019-05-26 00:25 EDT\n",
      "Nmap done: 256 IP addresses (0 hosts up) scanned in 104.15 seconds\n"
     ]
    }
   ],
   "source": [
    "!nmap -sP 192.168.1.0/24"
   ]
  },
  {
   "cell_type": "code",
   "execution_count": 17,
   "metadata": {},
   "outputs": [
    {
     "name": "stdout",
     "output_type": "stream",
     "text": [
      "\n",
      "Starting Nmap 7.01 ( https://nmap.org ) at 2019-05-26 00:37 EDT\n",
      "Note: Host seems down. If it is really up, but blocking our ping probes, try -Pn\n",
      "Nmap done: 1 IP address (0 hosts up) scanned in 3.27 seconds\n"
     ]
    }
   ],
   "source": [
    "!nmap -sV 198.168.122.1\n",
    "#use for Jenkins automated version testing, fail or flag if behind minimum version."
   ]
  },
  {
   "cell_type": "code",
   "execution_count": 18,
   "metadata": {},
   "outputs": [
    {
     "name": "stdout",
     "output_type": "stream",
     "text": [
      "\n",
      "Starting Nmap 7.01 ( https://nmap.org ) at 2019-05-26 00:38 EDT\n",
      "Nmap scan report for 192.168.122.1\n",
      "Host is up (0.00013s latency).\n",
      "Not shown: 997 closed ports\n",
      "PORT   STATE SERVICE\n",
      "22/tcp open  ssh\n",
      "53/tcp open  domain\n",
      "80/tcp open  http\n",
      "\n",
      "Nmap done: 1 IP address (1 host up) scanned in 0.07 seconds\n"
     ]
    }
   ],
   "source": [
    "!nmap -PN 192.168.122.1"
   ]
  },
  {
   "cell_type": "code",
   "execution_count": 19,
   "metadata": {},
   "outputs": [
    {
     "name": "stdout",
     "output_type": "stream",
     "text": [
      "You requested a scan type which requires root privileges.\r\n",
      "QUITTING!\r\n"
     ]
    }
   ],
   "source": [
    "!nmap -sS 192.168.122.1"
   ]
  },
  {
   "cell_type": "code",
   "execution_count": 20,
   "metadata": {},
   "outputs": [
    {
     "name": "stdout",
     "output_type": "stream",
     "text": [
      "You requested a scan type which requires root privileges.\r\n",
      "QUITTING!\r\n"
     ]
    }
   ],
   "source": [
    "!nmap -sO"
   ]
  },
  {
   "cell_type": "code",
   "execution_count": null,
   "metadata": {},
   "outputs": [],
   "source": []
  }
 ],
 "metadata": {
  "kernelspec": {
   "display_name": "Python 3",
   "language": "python",
   "name": "python3"
  },
  "language_info": {
   "codemirror_mode": {
    "name": "ipython",
    "version": 3
   },
   "file_extension": ".py",
   "mimetype": "text/x-python",
   "name": "python",
   "nbconvert_exporter": "python",
   "pygments_lexer": "ipython3",
   "version": "3.6.5"
  }
 },
 "nbformat": 4,
 "nbformat_minor": 2
}
