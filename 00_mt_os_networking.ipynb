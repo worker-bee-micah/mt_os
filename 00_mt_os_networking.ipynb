{
 "cells": [
  {
   "cell_type": "markdown",
   "metadata": {
    "scrolled": true
   },
   "source": [
    "!sudo apt install openshh-server bridge-utils dsniff nmap fail2ban vim  -y"
   ]
  },
  {
   "cell_type": "markdown",
   "metadata": {},
   "source": [
    "#Raspberry Pi server networking  \n",
    "\n",
    "The sensor array connected to the RPi will create either temporary or permanent databases which will then Post to the Apache server for graphical display. \n",
    "\n",
    "After you install OpenSSH server, type the following command in a bash terminal shell root user:\n",
    "\n",
    ">\n",
    ">#service ssh start\n",
    ">\n",
    "\n",
    "Once the SSH server is installed set it to automatically when the operating system is rebooted. Change the run level settings with the following command:\n",
    "\n",
    ">\n",
    ">#update-rc.d -f ssh remove\n",
    ">\n",
    ">#update-rc.d -f ssh defaults\n",
    "\n",
    "Best practice is to remove the default keys and make new ones:\n",
    "\n",
    ">\n",
    ">#cd /etc/ssh\n",
    ">\n",
    ">#mkdir default_piano_k3ys\n",
    ">\n",
    ">#mv ssh_host_* default_piano_k3ys\n",
    ">\n",
    "\n",
    "Generate new keys and restart the SSH server. You will need to use a root shell or sudo command to perform most of the steps.\n",
    ">\n",
    ">#dpkg-reconfigure openssh-server\n",
    ">\n",
    ">service ssh restart\n",
    ">\n",
    ">#ssh -fN -R 443:localhost:22 root@192.168.123.1\n",
    "\n",
    "Common TCP ports 22, 53, 80, 443, \n",
    "\n",
    "##Sources\n",
    "\n",
    "Most of the hardward and software used in this example were purchased by the Brooklyn U.S. based supplier [adafruit.com](https://learn.adafruit.com/setting-up-a-raspberry-pi-as-a-wifi-access-point)\n",
    "\n",
    "\n",
    "I used this [book](https://www.packtpub.com/networking-and-servers/penetration-testing-raspberry-pi) to research server integrity scripts to determine if development servers or unintended installs are occuring on the API or web server.   \n",
    "\n",
    "Low costs sensors can be placed in harsh environments and connect to the RPi via wifi.  \n",
    "\n",
    "\n",
    "Setup both Ethernet ports to be open IP addresses. You will be able to use the Rpi with a male-male cable connected to your laptop. Once the initial is complete perform the following:\n",
    "\n",
    ">ifconfig eth3 0.0.0.0\n",
    "\n",
    ">ifconfig eth4 0.0.0.0\n",
    "\n",
    ">brctl addbr bridge9 \n",
    "\n",
    ">brctl addif bridge9 eth3\n",
    "\n",
    ">brctl addif bridge9 eth4\n",
    "\n",
    ">ifconfig bridge9 up\n",
    "\n",
    "\n",
    "\n"
   ]
  },
  {
   "cell_type": "code",
   "execution_count": null,
   "metadata": {
    "scrolled": true
   },
   "outputs": [],
   "source": [
    "!iwconfig #wlan0 up"
   ]
  },
  {
   "cell_type": "code",
   "execution_count": null,
   "metadata": {},
   "outputs": [],
   "source": [
    "!iwconfig wlan0 scanning"
   ]
  },
  {
   "cell_type": "code",
   "execution_count": 27,
   "metadata": {},
   "outputs": [
    {
     "name": "stdout",
     "output_type": "stream",
     "text": [
      "help      No such device\r\n",
      "\r\n"
     ]
    }
   ],
   "source": [
    "!iwconfig eth3"
   ]
  },
  {
   "cell_type": "markdown",
   "metadata": {},
   "source": [
    "!sudo vim /etc/network/interfaces\n",
    "#choose static or dhcp, first address is the static IP you want \n",
    "#to assign to the pi. The gateway is the address of the router\n",
    "#at the bottom of the file add this for wireless\n",
    "#auto wlan0\n",
    "#iface wlan0 inet dhcp\n",
    "wpa-conf /etc/wpa.conf"
   ]
  },
  {
   "cell_type": "code",
   "execution_count": null,
   "metadata": {
    "scrolled": true
   },
   "outputs": [],
   "source": [
    "!netstat -nr"
   ]
  },
  {
   "cell_type": "code",
   "execution_count": null,
   "metadata": {
    "scrolled": false
   },
   "outputs": [],
   "source": [
    "!nmap -Rsn 10.0.1.0/24"
   ]
  },
  {
   "cell_type": "code",
   "execution_count": null,
   "metadata": {},
   "outputs": [],
   "source": [
    "!nmap 172.16.42.1 -Pn\n",
    "#!nmap 192.168.1.0/24\n",
    "#scan the entire class C range"
   ]
  },
  {
   "cell_type": "code",
   "execution_count": null,
   "metadata": {},
   "outputs": [],
   "source": [
    "!nmap --open 172.16.42.1\n",
    "#!nmap --open 192.168.12.1\n",
    "#shows possible open ports"
   ]
  },
  {
   "cell_type": "code",
   "execution_count": null,
   "metadata": {},
   "outputs": [],
   "source": [
    "!nmap --reason 192.168.122.1"
   ]
  },
  {
   "cell_type": "code",
   "execution_count": null,
   "metadata": {},
   "outputs": [],
   "source": [
    "!nmap -iflist > ~/Desktop/wireless_list.txt"
   ]
  },
  {
   "cell_type": "code",
   "execution_count": null,
   "metadata": {},
   "outputs": [],
   "source": [
    "!nmap -sP 192.168.1.0/24"
   ]
  },
  {
   "cell_type": "code",
   "execution_count": null,
   "metadata": {},
   "outputs": [],
   "source": [
    "!nmap -sV 198.168.123.1\n",
    "#use for Jenkins automated version testing, fail or flag if behind minimum version."
   ]
  },
  {
   "cell_type": "code",
   "execution_count": null,
   "metadata": {},
   "outputs": [],
   "source": [
    "!nmap -PN 192.168.123.1"
   ]
  },
  {
   "cell_type": "code",
   "execution_count": null,
   "metadata": {},
   "outputs": [],
   "source": [
    "!nmap -sS 192.168.123.1"
   ]
  },
  {
   "cell_type": "code",
   "execution_count": null,
   "metadata": {},
   "outputs": [],
   "source": [
    "!nmap -sO"
   ]
  },
  {
   "cell_type": "code",
   "execution_count": null,
   "metadata": {},
   "outputs": [],
   "source": []
  }
 ],
 "metadata": {
  "kernelspec": {
   "display_name": "Python 3",
   "language": "python",
   "name": "python3"
  },
  "language_info": {
   "codemirror_mode": {
    "name": "ipython",
    "version": 3
   },
   "file_extension": ".py",
   "mimetype": "text/x-python",
   "name": "python",
   "nbconvert_exporter": "python",
   "pygments_lexer": "ipython3",
   "version": "3.6.5"
  }
 },
 "nbformat": 4,
 "nbformat_minor": 2
}
