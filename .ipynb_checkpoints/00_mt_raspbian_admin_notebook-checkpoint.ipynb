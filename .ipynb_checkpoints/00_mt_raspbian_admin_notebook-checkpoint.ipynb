{
 "cells": [
  {
   "cell_type": "code",
   "execution_count": null,
   "metadata": {},
   "outputs": [],
   "source": [
    "%%writefile sYs_aDmin.md\n",
    "\n",
    "**#Build an Internet of Things server with a Rasberry Pi**\n",
    "\n",
    "This notebook will cover building the install medium, GPIO testing and server configuration for the Rasberry Pi hardware development board.  \n",
    "\n",
    "\n",
    "1. Verify the .iso file that was downloaded from source with md5sum.\n",
    ">>$ wget\n",
    ">>$ md5sum\n",
    "\n",
    "\n",
    "2. Prepare install medium, usually a SD card or USB drive. \n",
    "\n",
    ">># gparted\n",
    "\n",
    ">># dd\n",
    "\n",
    "\n",
    "3. Boot up the system and ensure it is installed as expected.\n",
    "\n",
    ">>$ raspi-config\n",
    "\n",
    "\n",
    "4. Administer users \n",
    "\n",
    "\n",
    "5. Basic Networking\n",
    "\n",
    "\n",
    "6. System Security\n",
    "\n",
    "\n",
    "7. GPIO setup and testing\n",
    "\n",
    "\n",
    "8. The Raspberry Pi as a local data or web server\n",
    "\n"
   ]
  },
  {
   "cell_type": "code",
   "execution_count": 1,
   "metadata": {},
   "outputs": [
    {
     "data": {
      "text/plain": [
       "'/home/tapew0rm/mtGit/mt_os'"
      ]
     },
     "execution_count": 1,
     "metadata": {},
     "output_type": "execute_result"
    }
   ],
   "source": [
    "%pwd"
   ]
  },
  {
   "cell_type": "code",
   "execution_count": 2,
   "metadata": {},
   "outputs": [
    {
     "name": "stdout",
     "output_type": "stream",
     "text": [
      "total 92\r\n",
      "drwxrwxr-x 4 tapew0rm tapew0rm  4096 May 26 06:08 \u001b[0m\u001b[01;34m.\u001b[0m/\r\n",
      "drwxrwxr-x 7 tapew0rm tapew0rm  4096 May 11 20:33 \u001b[01;34m..\u001b[0m/\r\n",
      "-rw-rw-r-- 1 tapew0rm tapew0rm 14325 May 13 07:29 00_mt_git_cheat_sheet.ipynb\r\n",
      "-rw-rw-r-- 1 tapew0rm tapew0rm  5749 May 26 06:08 00_mt_os_networking.ipynb\r\n",
      "-rw-rw-r-- 1 tapew0rm tapew0rm   806 May 13 07:29 00_mt_raspbian_admin_notebook.ipynb\r\n",
      "-rw-rw-r-- 1 tapew0rm tapew0rm    32 May 11 21:01 coconuts.txt\r\n",
      "drwxrwxr-x 8 tapew0rm tapew0rm  4096 May 26 06:17 \u001b[01;34m.git\u001b[0m/\r\n",
      "-rw-rw-r-- 1 tapew0rm tapew0rm   165 May 26 05:59 .gitignore\r\n",
      "drwxrwxr-x 2 tapew0rm tapew0rm  4096 May 26 00:59 \u001b[01;34m.ipynb_checkpoints\u001b[0m/\r\n",
      "-rw-rw-r-- 1 tapew0rm tapew0rm 35149 May 11 21:02 LICENSE\r\n",
      "-rw-rw-r-- 1 tapew0rm tapew0rm  2112 May 26 05:39 README.md\r\n"
     ]
    }
   ],
   "source": [
    "%ls -al"
   ]
  },
  {
   "cell_type": "markdown",
   "metadata": {},
   "source": [
    "**## 4. User Administration**\n",
    "\n",
    "Setup the default user group assignment.\n",
    "\n",
    "Debian defaults to giving each user their own groups with usually the same name, also known as User Private Groups.\n",
    "\n",
    "Create a name for your new group that makes sense, such as *python-dev* or *dba_t3* if multiple users with be developing along with you.  \n",
    "Robot users will have a very limited list of directories or files that they can r/w to, \n",
    "\n",
    ">>$ man passwd\n",
    ">>'[user,group][add, mod,del]\n",
    "\n",
    "\n",
    "Access Control Lists (ACL)\n",
    ">>$ man acl\n",
    ">>\n",
    ">>$ man getacl\n",
    ">>\n",
    ">>$ man setacl\n",
    ">>\n",
    ">>$ man chacl\n",
    ">>\n"
   ]
  },
  {
   "cell_type": "markdown",
   "metadata": {},
   "source": [
    "**## 6. Basic System Security**\n",
    "\n",
    "Special Note :: The following code and instructions are for RESEARCH PURPOSES ONLY!. Do not implement the following in a production software environment.\n",
    "\n",
    "\n",
    "1. Adding human and robot users, the Root account\n",
    "\n",
    "2. Debian Hardening Packages\n",
    "\n",
    "harden * installs harden-environment and harden-servers*\n",
    "harden-clients\n",
    "harden-environment\n",
    "harden-nids\n",
    "harden-servers\n",
    "harden-tools\n",
    "\n",
    "3. Firewall tools\n",
    "iptables\n",
    "firestarter\n",
    "guarddog\n",
    "fireflier\n",
    "mason\n",
    "fwbuilder\n",
    "\n",
    "IPTABLES\n",
    "\n",
    "\n"
   ]
  }
 ],
 "metadata": {
  "kernelspec": {
   "display_name": "Python 3",
   "language": "python",
   "name": "python3"
  },
  "language_info": {
   "codemirror_mode": {
    "name": "ipython",
    "version": 3
   },
   "file_extension": ".py",
   "mimetype": "text/x-python",
   "name": "python",
   "nbconvert_exporter": "python",
   "pygments_lexer": "ipython3",
   "version": "3.6.5"
  }
 },
 "nbformat": 4,
 "nbformat_minor": 2
}
