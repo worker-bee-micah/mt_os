{
 "cells": [
  {
   "cell_type": "markdown",
   "metadata": {},
   "source": [
    "#Git Cheat Sheet\n",
    "sources = \"http://training.github.com\"\n",
    "##Configure Tooling"
   ]
  },
  {
   "cell_type": "code",
   "execution_count": null,
   "metadata": {},
   "outputs": [],
   "source": [
    "#set the name attached to commits\n",
    "!git config --global user.name \"[Semprini]\""
   ]
  },
  {
   "cell_type": "code",
   "execution_count": null,
   "metadata": {},
   "outputs": [],
   "source": [
    "#set email\n",
    "!git config --global user..email \"semprini@python.org\""
   ]
  },
  {
   "cell_type": "code",
   "execution_count": null,
   "metadata": {},
   "outputs": [],
   "source": [
    "#colors for command line output\n",
    "!git config --global color.ui auto"
   ]
  },
  {
   "cell_type": "code",
   "execution_count": null,
   "metadata": {},
   "outputs": [],
   "source": [
    "#create repositories\n",
    "!git init #project_name"
   ]
  },
  {
   "cell_type": "code",
   "execution_count": 1,
   "metadata": {
    "scrolled": false
   },
   "outputs": [
    {
     "name": "stdout",
     "output_type": "stream",
     "text": [
      "On branch master\r\n",
      "\r\n",
      "Initial commit\r\n",
      "\r\n",
      "Untracked files:\r\n",
      "  (use \"git add <file>...\" to include in what will be committed)\r\n",
      "\r\n",
      "\t\u001b[31m00_mt_git_cheat_sheet.ipynb\u001b[m\r\n",
      "\r\n",
      "nothing added to commit but untracked files present (use \"git add\" to track)\r\n"
     ]
    }
   ],
   "source": [
    "!git status"
   ]
  },
  {
   "cell_type": "code",
   "execution_count": 12,
   "metadata": {},
   "outputs": [
    {
     "name": "stdout",
     "output_type": "stream",
     "text": [
      "fatal: remote origin already exists.\r\n"
     ]
    }
   ],
   "source": [
    "!git remote add origin git@github.com:worker-bee-micah/mt_os.git\n",
    "#!git push -u origin master"
   ]
  },
  {
   "cell_type": "code",
   "execution_count": 34,
   "metadata": {},
   "outputs": [
    {
     "name": "stdout",
     "output_type": "stream",
     "text": [
      "Overwriting .gitignore\n"
     ]
    }
   ],
   "source": [
    "%%writefile .gitignore\n",
    "#do not track these files with the versioning system\n",
    "\n",
    "*.log\n",
    "build/\n",
    "temp-*\n",
    ".env\n",
    "00_mt_git_cheat_sheet.ipynb\n",
    "#!echo \"Do not tie coconuts to swallows\" >> coconuts.txt"
   ]
  },
  {
   "cell_type": "code",
   "execution_count": 19,
   "metadata": {},
   "outputs": [],
   "source": [
    "!echo \"Do not tie coconuts to swallows\" >> coconuts.txt\n",
    "#snapshot the coconut in preparation for versioning\n",
    "#add all files with space single period\n",
    "!git add coconuts.txt"
   ]
  },
  {
   "cell_type": "code",
   "execution_count": 20,
   "metadata": {
    "scrolled": false
   },
   "outputs": [],
   "source": [
    "#show what is NOT staged\n",
    "!git diff"
   ]
  },
  {
   "cell_type": "code",
   "execution_count": 28,
   "metadata": {},
   "outputs": [
    {
     "name": "stdout",
     "output_type": "stream",
     "text": [
      "\u001b[1mdiff --git a/coconuts.txt b/coconuts.txt\u001b[m\r\n",
      "\u001b[1mnew file mode 100644\u001b[m\r\n",
      "\u001b[1mindex 0000000..b39a890\u001b[m\r\n",
      "\u001b[1m--- /dev/null\u001b[m\r\n",
      "\u001b[1m+++ b/coconuts.txt\u001b[m\r\n",
      "\u001b[36m@@ -0,0 +1 @@\u001b[m\r\n",
      "\u001b[32m+\u001b[m\u001b[32mDo not tie coconuts to swallows\u001b[m\r\n"
     ]
    }
   ],
   "source": [
    "#show what IS staged\n",
    "!git diff --staged"
   ]
  },
  {
   "cell_type": "code",
   "execution_count": 35,
   "metadata": {},
   "outputs": [
    {
     "name": "stdout",
     "output_type": "stream",
     "text": [
      "On branch master\r\n",
      "Changes not staged for commit:\r\n",
      "  (use \"git add <file>...\" to update what will be committed)\r\n",
      "  (use \"git checkout -- <file>...\" to discard changes in working directory)\r\n",
      "\r\n",
      "\t\u001b[31mmodified:   README.md\u001b[m\r\n",
      "\r\n",
      "Untracked files:\r\n",
      "  (use \"git add <file>...\" to include in what will be committed)\r\n",
      "\r\n",
      "\t\u001b[31m.README.md.swp\u001b[m\r\n",
      "\r\n",
      "no changes added to commit (use \"git add\" and/or \"git commit -a\")\r\n"
     ]
    }
   ],
   "source": [
    "!git status"
   ]
  },
  {
   "cell_type": "code",
   "execution_count": 25,
   "metadata": {},
   "outputs": [
    {
     "name": "stdout",
     "output_type": "stream",
     "text": [
      "origin\tgit@github.com:worker-bee-micah/mt_os.git (fetch)\r\n",
      "origin\tgit@github.com:worker-bee-micah/mt_os.git (push)\r\n"
     ]
    }
   ],
   "source": [
    "!git remote -v"
   ]
  },
  {
   "cell_type": "code",
   "execution_count": 26,
   "metadata": {},
   "outputs": [
    {
     "name": "stdout",
     "output_type": "stream",
     "text": [
      "remote: Enumerating objects: 7, done.\u001b[K\r\n",
      "remote: Counting objects:  14% (1/7)   \u001b[K\r",
      "remote: Counting objects:  28% (2/7)   \u001b[K\r",
      "remote: Counting objects:  42% (3/7)   \u001b[K\r",
      "remote: Counting objects:  57% (4/7)   \u001b[K\r",
      "remote: Counting objects:  71% (5/7)   \u001b[K\r",
      "remote: Counting objects:  85% (6/7)   \u001b[K\r",
      "remote: Counting objects: 100% (7/7)   \u001b[K\r",
      "remote: Counting objects: 100% (7/7), done.\u001b[K\r\n",
      "remote: Compressing objects:  14% (1/7)   \u001b[K\r",
      "remote: Compressing objects:  28% (2/7)   \u001b[K\r",
      "remote: Compressing objects:  42% (3/7)   \u001b[K\r",
      "remote: Compressing objects:  57% (4/7)   \u001b[K\r",
      "remote: Compressing objects:  71% (5/7)   \u001b[K\r",
      "remote: Compressing objects:  85% (6/7)   \u001b[K\r",
      "remote: Compressing objects: 100% (7/7)   \u001b[K\r",
      "remote: Compressing objects: 100% (7/7), done.\u001b[K\r\n",
      "remote: Total 7 (delta 1), reused 0 (delta 0), pack-reused 0\u001b[K\r\n",
      "Unpacking objects:  14% (1/7)   \r",
      "Unpacking objects:  28% (2/7)   \r",
      "Unpacking objects:  42% (3/7)   \r",
      "Unpacking objects:  57% (4/7)   \r",
      "Unpacking objects:  71% (5/7)   \r",
      "Unpacking objects:  85% (6/7)   \r",
      "Unpacking objects: 100% (7/7)   \r",
      "Unpacking objects: 100% (7/7), done.\r\n",
      "From github.com:worker-bee-micah/mt_os\r\n",
      " * branch            master     -> FETCH_HEAD\r\n",
      " * [new branch]      master     -> origin/master\r\n"
     ]
    }
   ],
   "source": [
    "!git pull origin master\n",
    "#this updates the local directory with the updated remote repository\n",
    "#easier than git fetch + git merge"
   ]
  },
  {
   "cell_type": "code",
   "execution_count": null,
   "metadata": {},
   "outputs": [],
   "source": [
    "!git add ."
   ]
  },
  {
   "cell_type": "code",
   "execution_count": 36,
   "metadata": {},
   "outputs": [
    {
     "name": "stdout",
     "output_type": "stream",
     "text": [
      "[master 524df42] Its only a model, and the first commit\r\n",
      " 1 file changed, 38 insertions(+), 1 deletion(-)\r\n"
     ]
    }
   ],
   "source": [
    "!git commit -a -m \"Its only a model, and the first commit\""
   ]
  },
  {
   "cell_type": "code",
   "execution_count": 37,
   "metadata": {},
   "outputs": [
    {
     "name": "stdout",
     "output_type": "stream",
     "text": [
      "Counting objects: 11, done.\n",
      "Delta compression using up to 8 threads.\n",
      "Compressing objects: 100% (10/10), done.\n",
      "Writing objects: 100% (11/11), 3.85 KiB | 0 bytes/s, done.\n",
      "Total 11 (delta 2), reused 0 (delta 0)\n",
      "remote: Resolving deltas: 100% (2/2), done.\u001b[K\n",
      "To git@github.com:worker-bee-micah/mt_os.git\n",
      "   5f1d7b0..524df42  master -> master\n"
     ]
    }
   ],
   "source": [
    "!git push origin master"
   ]
  },
  {
   "cell_type": "code",
   "execution_count": null,
   "metadata": {
    "scrolled": true
   },
   "outputs": [],
   "source": [
    "!git reset #file  unstages the file, but preserves its contents"
   ]
  },
  {
   "cell_type": "code",
   "execution_count": null,
   "metadata": {},
   "outputs": [],
   "source": [
    "#list all local branches in current directory\n",
    "!git branch"
   ]
  },
  {
   "cell_type": "markdown",
   "metadata": {},
   "source": [
    "###Group changes, name a series of commits & combine completed efforts"
   ]
  },
  {
   "cell_type": "code",
   "execution_count": null,
   "metadata": {},
   "outputs": [],
   "source": [
    "#create a new branch\n",
    "!git branch semprini"
   ]
  },
  {
   "cell_type": "code",
   "execution_count": null,
   "metadata": {},
   "outputs": [],
   "source": [
    "#switch to the new branch\n",
    "!git checkout semprini"
   ]
  },
  {
   "cell_type": "code",
   "execution_count": null,
   "metadata": {},
   "outputs": [],
   "source": [
    "#combine the specified branch's history into the current branch\n",
    "!git merge master"
   ]
  },
  {
   "cell_type": "code",
   "execution_count": null,
   "metadata": {},
   "outputs": [],
   "source": [
    "#delete a specific branch\n",
    "!git branch -d semprini"
   ]
  },
  {
   "cell_type": "code",
   "execution_count": null,
   "metadata": {},
   "outputs": [],
   "source": [
    "#delete the file \n",
    "!git rm coconuts.txt"
   ]
  },
  {
   "cell_type": "code",
   "execution_count": null,
   "metadata": {},
   "outputs": [],
   "source": [
    "#remove the file from version control, but preserve locally\n",
    "!git rm --cached coconuts.txt"
   ]
  },
  {
   "cell_type": "code",
   "execution_count": null,
   "metadata": {},
   "outputs": [],
   "source": [
    "#change the file name and prepare for commit\n",
    "!git mv coconuts.txt coconut2x.md"
   ]
  },
  {
   "cell_type": "code",
   "execution_count": null,
   "metadata": {},
   "outputs": [],
   "source": [
    "#suppress tracking\n",
    "#create a text file named .gitignore\n",
    "\"\"\"\n",
    "*.log\n",
    "build/\n",
    "temp-*\n",
    ".env\n",
    "\n",
    "\"\"\""
   ]
  },
  {
   "cell_type": "code",
   "execution_count": null,
   "metadata": {},
   "outputs": [],
   "source": [
    "#list all ignored files in the project\n",
    "!git ls-files --other --ignored --exclude-standard"
   ]
  },
  {
   "cell_type": "code",
   "execution_count": null,
   "metadata": {},
   "outputs": [],
   "source": []
  },
  {
   "cell_type": "code",
   "execution_count": null,
   "metadata": {},
   "outputs": [],
   "source": [
    "#save fragments, shelve and restore incomplete changes\n",
    "#temporarily store all modified tracked files\n",
    "!git stash"
   ]
  },
  {
   "cell_type": "code",
   "execution_count": null,
   "metadata": {},
   "outputs": [],
   "source": [
    "#restore the most recently stashed files\n",
    "!git stash pop"
   ]
  },
  {
   "cell_type": "code",
   "execution_count": null,
   "metadata": {},
   "outputs": [],
   "source": [
    "#list all stashed changesets\n",
    "!git stash list"
   ]
  },
  {
   "cell_type": "code",
   "execution_count": null,
   "metadata": {},
   "outputs": [],
   "source": [
    "#discard the most recent stashed changeset\n",
    "!git stash drop"
   ]
  },
  {
   "cell_type": "code",
   "execution_count": 11,
   "metadata": {},
   "outputs": [
    {
     "name": "stdout",
     "output_type": "stream",
     "text": [
      "fatal: your current branch 'master' does not have any commits yet\r\n"
     ]
    }
   ],
   "source": [
    "#review history, browse and inspectthe evolution of project files, option --oneline\n",
    "!git log "
   ]
  },
  {
   "cell_type": "code",
   "execution_count": null,
   "metadata": {
    "scrolled": true
   },
   "outputs": [],
   "source": [
    "#list version history for a file, including renames\n",
    "!git log --follow coconut.txt"
   ]
  },
  {
   "cell_type": "code",
   "execution_count": null,
   "metadata": {},
   "outputs": [],
   "source": [
    "#show content differences between two branches\n",
    "!git diff branch_lancelot branch_sir_robin"
   ]
  },
  {
   "cell_type": "code",
   "execution_count": null,
   "metadata": {},
   "outputs": [],
   "source": [
    "#output metadata and content changes of the specified commit\n",
    "!git show [commit]"
   ]
  },
  {
   "cell_type": "code",
   "execution_count": null,
   "metadata": {},
   "outputs": [],
   "source": [
    "#redo commits, erase mistakes and craft replacement history\n",
    "!git reset [commit]"
   ]
  },
  {
   "cell_type": "code",
   "execution_count": null,
   "metadata": {},
   "outputs": [],
   "source": [
    "#discard all history and changes back to the specified commit\n",
    "!git reset --hard [commit]"
   ]
  },
  {
   "cell_type": "code",
   "execution_count": null,
   "metadata": {},
   "outputs": [],
   "source": [
    "#synchronize changes, regiser a repository bookmark and exchange version history\n",
    "!git fetch [bookmark]"
   ]
  },
  {
   "cell_type": "code",
   "execution_count": null,
   "metadata": {},
   "outputs": [],
   "source": [
    "#combine bookmark's branch into current local branch\n",
    "!git merge [bookmark]/[branch]"
   ]
  },
  {
   "cell_type": "code",
   "execution_count": null,
   "metadata": {},
   "outputs": [],
   "source": [
    "#upload all local branch commits to GitHub\n",
    "!git push [alias] [branch]\n",
    "#git push -u origin master"
   ]
  },
  {
   "cell_type": "code",
   "execution_count": null,
   "metadata": {},
   "outputs": [],
   "source": [
    "#download bookmark history and incorporate changes"
   ]
  },
  {
   "cell_type": "code",
   "execution_count": null,
   "metadata": {},
   "outputs": [],
   "source": []
  }
 ],
 "metadata": {
  "kernelspec": {
   "display_name": "Python 3",
   "language": "python",
   "name": "python3"
  },
  "language_info": {
   "codemirror_mode": {
    "name": "ipython",
    "version": 3
   },
   "file_extension": ".py",
   "mimetype": "text/x-python",
   "name": "python",
   "nbconvert_exporter": "python",
   "pygments_lexer": "ipython3",
   "version": "3.6.5"
  }
 },
 "nbformat": 4,
 "nbformat_minor": 2
}
